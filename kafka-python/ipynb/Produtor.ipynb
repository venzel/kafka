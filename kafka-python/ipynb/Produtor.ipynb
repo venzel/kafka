{
 "cells": [
  {
   "cell_type": "code",
   "execution_count": 1,
   "id": "d62109fc",
   "metadata": {},
   "outputs": [],
   "source": [
    "from kafka import KafkaProducer as kp\n",
    "import random\n",
    "\n",
    "productor = kp(bootstrap_servers=\"127.0.0.1:29092\")"
   ]
  },
  {
   "cell_type": "code",
   "execution_count": 2,
   "id": "b8eaedfc",
   "metadata": {},
   "outputs": [],
   "source": [
    "for i in range(3):\n",
    "    n = random.random()\n",
    "    productor.send(\"meutopico\", key=b\"chave: %d\" %i, value=b\"mensagem: %f\" %n)"
   ]
  }
 ],
 "metadata": {
  "kernelspec": {
   "display_name": "Python 3",
   "language": "python",
   "name": "python3"
  },
  "language_info": {
   "codemirror_mode": {
    "name": "ipython",
    "version": 3
   },
   "file_extension": ".py",
   "mimetype": "text/x-python",
   "name": "python",
   "nbconvert_exporter": "python",
   "pygments_lexer": "ipython3",
   "version": "3.8.10 (default, Nov 14 2022, 12:59:47) \n[GCC 9.4.0]"
  },
  "vscode": {
   "interpreter": {
    "hash": "31f2aee4e71d21fbe5cf8b01ff0e069b9275f58929596ceb00d14d90e3e16cd6"
   }
  }
 },
 "nbformat": 4,
 "nbformat_minor": 5
}
