{
 "cells": [
  {
   "cell_type": "code",
   "execution_count": 37,
   "id": "07d775e5",
   "metadata": {},
   "outputs": [],
   "source": [
    "from kafka import KafkaConsumer as kc\n",
    "\n",
    "consumer = kc(\"meutopico\", bootstrap_servers=\"127.0.0.1:29092\", consumer_timeout_ms=9000, group_id=\"a\")"
   ]
  },
  {
   "cell_type": "code",
   "execution_count": null,
   "id": "94028800",
   "metadata": {},
   "outputs": [],
   "source": [
    "for message in consumer:\n",
    "    print(\"Tópico:\", message.topic)\n",
    "    print(\"Partição:\", message.partition)\n",
    "    print(\"Offset:\", message.offset)\n",
    "    print(\"Chave:\", message.key)\n",
    "    print(\"Valor:\", message.value)\n",
    "    print(\"---------------------\")"
   ]
  }
 ],
 "metadata": {
  "kernelspec": {
   "display_name": "Python 3 (ipykernel)",
   "language": "python",
   "name": "python3"
  },
  "language_info": {
   "codemirror_mode": {
    "name": "ipython",
    "version": 3
   },
   "file_extension": ".py",
   "mimetype": "text/x-python",
   "name": "python",
   "nbconvert_exporter": "python",
   "pygments_lexer": "ipython3",
   "version": "3.8.10"
  }
 },
 "nbformat": 4,
 "nbformat_minor": 5
}
